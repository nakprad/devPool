{
 "cells": [
  {
   "cell_type": "code",
   "execution_count": 5,
   "id": "f9eb7147",
   "metadata": {},
   "outputs": [
    {
     "data": {
      "text/html": [
       "\n",
       "            <div>\n",
       "                <p><b>SparkSession - in-memory</b></p>\n",
       "                \n",
       "        <div>\n",
       "            <p><b>SparkContext</b></p>\n",
       "\n",
       "            <p><a href=\"http://LAPTOP-38NK8ETU:4040\">Spark UI</a></p>\n",
       "\n",
       "            <dl>\n",
       "              <dt>Version</dt>\n",
       "                <dd><code>v3.2.0</code></dd>\n",
       "              <dt>Master</dt>\n",
       "                <dd><code>local[*]</code></dd>\n",
       "              <dt>AppName</dt>\n",
       "                <dd><code>hat</code></dd>\n",
       "            </dl>\n",
       "        </div>\n",
       "        \n",
       "            </div>\n",
       "        "
      ],
      "text/plain": [
       "<pyspark.sql.session.SparkSession at 0x237f592b820>"
      ]
     },
     "execution_count": 5,
     "metadata": {},
     "output_type": "execute_result"
    }
   ],
   "source": [
    "#import modules\n",
    "import numpy as np\n",
    "from pyspark.sql.types import *\n",
    "from pyspark.sql.functions import *\n",
    "\n",
    "# start\n",
    "# sc = SparkContext(master=\"local[4]\")\n",
    "from pyspark.sql import SparkSession\n",
    "from pyspark import SparkContext\n",
    "from pyspark import StorageLevel\n",
    "appName = \"hat\"\n",
    "spark = SparkSession.builder.master(\"local[*]\") \\\n",
    "        .appName(appName) \\\n",
    "        .getOrCreate()\n",
    "spark"
   ]
  },
  {
   "cell_type": "code",
   "execution_count": 10,
   "id": "1db2a794",
   "metadata": {},
   "outputs": [],
   "source": [
    "Schema = StructType([\n",
    "#   StructField(\"name\", StringType()),\n",
    "#   StructField(\"surname\", StringType()),\n",
    "  StructField(\"f1\", IntegerType()),\n",
    "  StructField(\"l1\", IntegerType()),\n",
    "#   StructField(\"sex\", StringType()),\n",
    "  StructField(\"s1\", IntegerType()),\n",
    "#   StructField(\"smoker\", StringType()),\n",
    "  StructField(\"s2\", IntegerType()),\n",
    "  StructField(\"age\", IntegerType()),\n",
    "#   StructField(\"class\", StringType()),\n",
    "  StructField(\"s3\", IntegerType()),\n",
    "])\n",
    "\n",
    "csv = spark.read.csv('C:/Users/nakprad/Desktop/konn.csv',schema=Schema, header=True)"
   ]
  },
  {
   "cell_type": "code",
   "execution_count": 12,
   "id": "94bb0813",
   "metadata": {},
   "outputs": [
    {
     "name": "stdout",
     "output_type": "stream",
     "text": [
      "+----------+-----+\n",
      "|     Class|count|\n",
      "+----------+-----+\n",
      "|Gryffindor|  116|\n",
      "| Ravenclaw|  115|\n",
      "| Slytherin|  115|\n",
      "|Hufflepuff|  115|\n",
      "+----------+-----+\n",
      "\n"
     ]
    }
   ],
   "source": [
    "csv.groupby(\"Class\").count().show()"
   ]
  },
  {
   "cell_type": "code",
   "execution_count": 16,
   "id": "f6b6e993",
   "metadata": {},
   "outputs": [
    {
     "name": "stdout",
     "output_type": "stream",
     "text": [
      "Training data rows: 379 ; Testing data rows: 82\n"
     ]
    }
   ],
   "source": [
    "dividedData = csv.randomSplit([0.8, 0.2])\n",
    "trainingData = dividedData[0] #index 0 = data training\n",
    "testingData = dividedData[1] #index 1 = data testing\n",
    "train_rows = trainingData.count()\n",
    "test_rows = testingData.count()\n",
    "print (\"Training data rows:\", train_rows, \"; Testing data rows:\", test_rows)"
   ]
  },
  {
   "cell_type": "code",
   "execution_count": 20,
   "id": "7852c3bb",
   "metadata": {},
   "outputs": [
    {
     "data": {
      "text/plain": [
       "DataFrame[name: string, surname: string, f1: int, l1: int, sex: string, s1: int, smoker: string, s2: int, age: int, class: string, s3: int]"
      ]
     },
     "execution_count": 20,
     "metadata": {},
     "output_type": "execute_result"
    }
   ],
   "source": [
    "csv"
   ]
  },
  {
   "cell_type": "code",
   "execution_count": 17,
   "id": "05c6e281",
   "metadata": {},
   "outputs": [],
   "source": [
    "trainlist = []\n",
    "for i in trainingData.collect():\n",
    "    trainlist.append(tuple(i))"
   ]
  },
  {
   "cell_type": "code",
   "execution_count": 18,
   "id": "bce01334",
   "metadata": {},
   "outputs": [],
   "source": [
    "testlist = []\n",
    "for j in testingData.collect():\n",
    "    testlist.append(tuple(j))"
   ]
  },
  {
   "cell_type": "code",
   "execution_count": 19,
   "id": "7a6f0f59",
   "metadata": {},
   "outputs": [
    {
     "ename": "UFuncTypeError",
     "evalue": "ufunc 'subtract' did not contain a loop with signature matching types (dtype('<U11'), dtype('<U11')) -> dtype('<U11')",
     "output_type": "error",
     "traceback": [
      "\u001b[1;31m---------------------------------------------------------------------------\u001b[0m",
      "\u001b[1;31mUFuncTypeError\u001b[0m                            Traceback (most recent call last)",
      "\u001b[1;32m~\\AppData\\Local\\Temp/ipykernel_11260/1583090210.py\u001b[0m in \u001b[0;36m<module>\u001b[1;34m\u001b[0m\n\u001b[0;32m     16\u001b[0m     \u001b[1;32mfor\u001b[0m \u001b[0mj\u001b[0m \u001b[1;32min\u001b[0m \u001b[0mrange\u001b[0m\u001b[1;33m(\u001b[0m\u001b[1;36m0\u001b[0m\u001b[1;33m,\u001b[0m\u001b[0mlen\u001b[0m\u001b[1;33m(\u001b[0m\u001b[0mtrainlist\u001b[0m\u001b[1;33m)\u001b[0m\u001b[1;33m)\u001b[0m\u001b[1;33m:\u001b[0m \u001b[1;31m#each train row ==== len(trainlist) ====\u001b[0m\u001b[1;33m\u001b[0m\u001b[1;33m\u001b[0m\u001b[0m\n\u001b[0;32m     17\u001b[0m         \u001b[0mdistance\u001b[0m \u001b[1;33m=\u001b[0m \u001b[1;36m0\u001b[0m\u001b[1;33m\u001b[0m\u001b[1;33m\u001b[0m\u001b[0m\n\u001b[1;32m---> 18\u001b[1;33m         \u001b[0mdistance\u001b[0m \u001b[1;33m=\u001b[0m \u001b[0mmath\u001b[0m\u001b[1;33m.\u001b[0m\u001b[0msqrt\u001b[0m\u001b[1;33m(\u001b[0m\u001b[0mnp\u001b[0m\u001b[1;33m.\u001b[0m\u001b[0msquare\u001b[0m\u001b[1;33m(\u001b[0m\u001b[1;33m(\u001b[0m\u001b[0mnp\u001b[0m\u001b[1;33m.\u001b[0m\u001b[0marray\u001b[0m\u001b[1;33m(\u001b[0m\u001b[0mtestlist\u001b[0m\u001b[1;33m[\u001b[0m\u001b[0mm\u001b[0m\u001b[1;33m]\u001b[0m\u001b[1;33m[\u001b[0m\u001b[1;33m:\u001b[0m\u001b[1;33m-\u001b[0m\u001b[1;36m1\u001b[0m\u001b[1;33m]\u001b[0m\u001b[1;33m)\u001b[0m \u001b[1;33m-\u001b[0m \u001b[0mnp\u001b[0m\u001b[1;33m.\u001b[0m\u001b[0marray\u001b[0m\u001b[1;33m(\u001b[0m\u001b[0mtrainlist\u001b[0m\u001b[1;33m[\u001b[0m\u001b[0mj\u001b[0m\u001b[1;33m]\u001b[0m\u001b[1;33m[\u001b[0m\u001b[1;33m:\u001b[0m\u001b[1;33m-\u001b[0m\u001b[1;36m1\u001b[0m\u001b[1;33m]\u001b[0m\u001b[1;33m)\u001b[0m\u001b[1;33m)\u001b[0m\u001b[1;33m)\u001b[0m\u001b[1;33m.\u001b[0m\u001b[0msum\u001b[0m\u001b[1;33m(\u001b[0m\u001b[1;33m)\u001b[0m\u001b[1;33m)\u001b[0m\u001b[1;33m\u001b[0m\u001b[1;33m\u001b[0m\u001b[0m\n\u001b[0m\u001b[0;32m     19\u001b[0m         \u001b[0mupd\u001b[0m \u001b[1;33m=\u001b[0m \u001b[1;33m{\u001b[0m\u001b[0mdistance\u001b[0m\u001b[1;33m:\u001b[0m\u001b[0mtrainlist\u001b[0m\u001b[1;33m[\u001b[0m\u001b[0mj\u001b[0m\u001b[1;33m]\u001b[0m\u001b[1;33m[\u001b[0m\u001b[1;36m30\u001b[0m\u001b[1;33m]\u001b[0m\u001b[1;33m}\u001b[0m\u001b[1;33m\u001b[0m\u001b[1;33m\u001b[0m\u001b[0m\n\u001b[0;32m     20\u001b[0m         \u001b[0mmydict\u001b[0m\u001b[1;33m.\u001b[0m\u001b[0mupdate\u001b[0m\u001b[1;33m(\u001b[0m\u001b[0mupd\u001b[0m\u001b[1;33m)\u001b[0m\u001b[1;33m\u001b[0m\u001b[1;33m\u001b[0m\u001b[0m\n",
      "\u001b[1;31mUFuncTypeError\u001b[0m: ufunc 'subtract' did not contain a loop with signature matching types (dtype('<U11'), dtype('<U11')) -> dtype('<U11')"
     ]
    }
   ],
   "source": [
    "import math\n",
    "import time\n",
    "import numpy as np\n",
    "import pandas as pd\n",
    "\n",
    "start_time = time.time()\n",
    "k = 5\n",
    "mydict = {}\n",
    "# mydict2 = {\"predict\":[],\"test\":[]}\n",
    "mydict3 = []\n",
    "mydict4 = []\n",
    "mydict5 = []\n",
    "mydict6 = []\n",
    "\n",
    "for m in range(0,len(testlist)): #each test row === len(testlist) ===\n",
    "    for j in range(0,len(trainlist)): #each train row ==== len(trainlist) ====\n",
    "        distance = 0\n",
    "        distance = math.sqrt(np.square((np.array(testlist[m][:-1]) - np.array(trainlist[j][:-1]))).sum())\n",
    "        upd = {distance:trainlist[j][30]}\n",
    "        mydict.update(upd)  \n",
    "    result = sorted(mydict.items(), key = lambda x:x[0])[:k]\n",
    "    mydict.clear()\n",
    "    total = 0\n",
    "    for i in range(0,k):\n",
    "        total += result[i][1]\n",
    "    if total <= k/2:\n",
    "        predict = 0.0\n",
    "    else:\n",
    "        predict = 1.0\n",
    "    actual = testlist[m][30]\n",
    "    mydict3.append(predict)\n",
    "    mydict4.append(m)\n",
    "    mydict5.append(actual)\n",
    "    mydict6.append(total)\n",
    "    print(m)\n",
    "schema = StructType([StructField(\"m\",IntegerType(),True),StructField(\"predict\",FloatType(),True),StructField(\"actual\",FloatType(),True),StructField(\"total\",FloatType(),True)])\n",
    "data1 = list(zip(mydict4,mydict3,mydict5,mydict6))\n",
    "df = spark.createDataFrame(data1,schema)\n",
    "# .write.mode('overwrite').format('csv').save('output')\n",
    "df.toPandas().to_csv('output_konn_k5.csv')\n",
    "print(\"finish in \",time.time() - start_time)"
   ]
  },
  {
   "cell_type": "code",
   "execution_count": null,
   "id": "0080f037",
   "metadata": {},
   "outputs": [],
   "source": []
  }
 ],
 "metadata": {
  "kernelspec": {
   "display_name": "Python 3 (ipykernel)",
   "language": "python",
   "name": "python3"
  },
  "language_info": {
   "codemirror_mode": {
    "name": "ipython",
    "version": 3
   },
   "file_extension": ".py",
   "mimetype": "text/x-python",
   "name": "python",
   "nbconvert_exporter": "python",
   "pygments_lexer": "ipython3",
   "version": "3.8.3"
  }
 },
 "nbformat": 4,
 "nbformat_minor": 5
}
